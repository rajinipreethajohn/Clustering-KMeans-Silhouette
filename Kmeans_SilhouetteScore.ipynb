{
  "nbformat": 4,
  "nbformat_minor": 0,
  "metadata": {
    "colab": {
      "provenance": [],
      "authorship_tag": "ABX9TyN1V51hG13phl6doBMU9ady"
    },
    "kernelspec": {
      "name": "python3",
      "display_name": "Python 3"
    },
    "language_info": {
      "name": "python"
    }
  },
  "cells": [
    {
      "cell_type": "code",
      "execution_count": 1,
      "metadata": {
        "id": "c-eivNAd2y7S"
      },
      "outputs": [],
      "source": [
        "#Import relavant libaraies and pacakages\n",
        "\n",
        "from sklearn.datasets import make_blobs\n",
        "from sklearn.cluster import KMeans\n",
        "from sklearn.metrics import silhouette_samples, silhouette_score\n",
        "\n",
        "import matplotlib.pyplot as plt\n",
        "import matplotlib.cm as cm\n",
        "import numpy as np"
      ]
    },
    {
      "cell_type": "code",
      "source": [
        "#Generating synthetic data from make_blobs\n",
        "\n",
        "X, y = make_blobs(n_samples=500,\n",
        "                  n_features=2,\n",
        "                  centers=4,\n",
        "                  cluster_std=1,\n",
        "                  center_box=(-10.0, 10.0),\n",
        "                  shuffle=True,\n",
        "                  random_state=42\n",
        "                  )"
      ],
      "metadata": {
        "id": "ynfIw2J037i9"
      },
      "execution_count": 2,
      "outputs": []
    },
    {
      "cell_type": "code",
      "source": [
        "# Checking X with 500 samople and 2 features\n",
        "X"
      ],
      "metadata": {
        "id": "-YyEyCQj7oM2"
      },
      "execution_count": null,
      "outputs": []
    },
    {
      "cell_type": "code",
      "source": [
        "# Checking y with 500 samople and 1 feature ie containing labels\n",
        "y"
      ],
      "metadata": {
        "id": "1mP7-bUV8DDE"
      },
      "execution_count": null,
      "outputs": []
    },
    {
      "cell_type": "code",
      "source": [
        "#Calculating Kmeans\n",
        "\n",
        "from sklearn.cluster import KMeans\n",
        "\n",
        "#WCSS= Within clusters sum of squares\n",
        "wcss = []\n",
        "\n",
        "for i in range(1, 11):\n",
        "  kmeans = KMeans(n_clusters=i, init='k-means++', random_state= 42) #kmeans++ will initiate clusters far from each other\n",
        "  kmeans.fit(X)\n",
        "  wcss.append(kmeans.inertia_) #Inertia is a measure of how compact and\n",
        "  #well-separated the clusters are. Lower inertia values generally indicate\n",
        "  #better-defined and tighter clusters.\n",
        "\n",
        "plt.plot(range(1,11), wcss)\n",
        "plt.title('The Elbow Method')\n",
        "plt.xlabel('Number of Clusters')\n",
        "plt.ylabel('WCSS')\n",
        "plt.show()"
      ],
      "metadata": {
        "colab": {
          "base_uri": "https://localhost:8080/",
          "height": 849
        },
        "id": "zSTYyJYi8O8D",
        "outputId": "898fa566-0cbd-456d-d9aa-5d41e46fda18"
      },
      "execution_count": 13,
      "outputs": [
        {
          "output_type": "stream",
          "name": "stderr",
          "text": [
            "/usr/local/lib/python3.10/dist-packages/sklearn/cluster/_kmeans.py:870: FutureWarning: The default value of `n_init` will change from 10 to 'auto' in 1.4. Set the value of `n_init` explicitly to suppress the warning\n",
            "  warnings.warn(\n",
            "/usr/local/lib/python3.10/dist-packages/sklearn/cluster/_kmeans.py:870: FutureWarning: The default value of `n_init` will change from 10 to 'auto' in 1.4. Set the value of `n_init` explicitly to suppress the warning\n",
            "  warnings.warn(\n",
            "/usr/local/lib/python3.10/dist-packages/sklearn/cluster/_kmeans.py:870: FutureWarning: The default value of `n_init` will change from 10 to 'auto' in 1.4. Set the value of `n_init` explicitly to suppress the warning\n",
            "  warnings.warn(\n",
            "/usr/local/lib/python3.10/dist-packages/sklearn/cluster/_kmeans.py:870: FutureWarning: The default value of `n_init` will change from 10 to 'auto' in 1.4. Set the value of `n_init` explicitly to suppress the warning\n",
            "  warnings.warn(\n",
            "/usr/local/lib/python3.10/dist-packages/sklearn/cluster/_kmeans.py:870: FutureWarning: The default value of `n_init` will change from 10 to 'auto' in 1.4. Set the value of `n_init` explicitly to suppress the warning\n",
            "  warnings.warn(\n",
            "/usr/local/lib/python3.10/dist-packages/sklearn/cluster/_kmeans.py:870: FutureWarning: The default value of `n_init` will change from 10 to 'auto' in 1.4. Set the value of `n_init` explicitly to suppress the warning\n",
            "  warnings.warn(\n",
            "/usr/local/lib/python3.10/dist-packages/sklearn/cluster/_kmeans.py:870: FutureWarning: The default value of `n_init` will change from 10 to 'auto' in 1.4. Set the value of `n_init` explicitly to suppress the warning\n",
            "  warnings.warn(\n",
            "/usr/local/lib/python3.10/dist-packages/sklearn/cluster/_kmeans.py:870: FutureWarning: The default value of `n_init` will change from 10 to 'auto' in 1.4. Set the value of `n_init` explicitly to suppress the warning\n",
            "  warnings.warn(\n",
            "/usr/local/lib/python3.10/dist-packages/sklearn/cluster/_kmeans.py:870: FutureWarning: The default value of `n_init` will change from 10 to 'auto' in 1.4. Set the value of `n_init` explicitly to suppress the warning\n",
            "  warnings.warn(\n",
            "/usr/local/lib/python3.10/dist-packages/sklearn/cluster/_kmeans.py:870: FutureWarning: The default value of `n_init` will change from 10 to 'auto' in 1.4. Set the value of `n_init` explicitly to suppress the warning\n",
            "  warnings.warn(\n"
          ]
        },
        {
          "output_type": "display_data",
          "data": {
            "text/plain": [
              "<Figure size 640x480 with 1 Axes>"
            ],
            "image/png": "[encoded data removed]"
          },
          "metadata": {}
        }
      ]
    },
    {
      "cell_type": "code",
      "source": [
        "#A look at kmeans inertia\n",
        "kmeans.inertia_"
      ],
      "metadata": {
        "colab": {
          "base_uri": "https://localhost:8080/"
        },
        "id": "T-Edp_N4_5XX",
        "outputId": "6ecab4a6-93e7-40f6-e988-c2b2150900ed"
      },
      "execution_count": 14,
      "outputs": [
        {
          "output_type": "execute_result",
          "data": {
            "text/plain": [
              "494.5622890001565"
            ]
          },
          "metadata": {},
          "execution_count": 14
        }
      ]
    },
    {
      "cell_type": "code",
      "source": [
        "#Let's do predictions on X\n",
        "clusterer = KMeans(n_clusters=4, random_state=42)\n",
        "cluster_labels = clusterer.fit_predict(X)\n",
        "print(cluster_labels)"
      ],
      "metadata": {
        "colab": {
          "base_uri": "https://localhost:8080/"
        },
        "id": "Bp3omcoHA4qV",
        "outputId": "332bf2aa-edb7-4b80-c5be-d64656a88842"
      },
      "execution_count": 15,
      "outputs": [
        {
          "output_type": "stream",
          "name": "stdout",
          "text": [
            "[1 2 0 3 2 2 1 2 0 2 0 3 0 3 2 0 3 1 1 3 0 3 0 1 1 2 2 1 1 3 2 3 3 3 2 2 0\n",
            " 0 1 1 2 0 3 3 3 0 0 0 2 1 2 3 1 2 0 3 3 1 2 1 1 3 2 1 0 2 2 1 0 2 0 2 2 1\n",
            " 3 1 3 2 0 3 2 0 2 3 1 1 1 1 0 3 1 2 0 2 0 1 3 0 3 1 0 0 0 1 1 3 3 1 3 1 2\n",
            " 1 1 1 1 2 0 1 2 2 3 0 2 0 1 0 0 2 2 1 1 0 0 2 0 1 1 1 0 0 2 1 0 0 2 1 1 3\n",
            " 3 3 2 2 0 0 3 1 3 1 2 2 1 1 0 0 2 3 0 2 1 1 2 3 3 1 1 3 3 2 2 2 3 1 3 3 1\n",
            " 1 3 0 3 2 2 1 1 2 3 2 3 3 1 2 3 3 2 1 0 1 2 0 0 1 1 2 1 3 3 2 3 1 3 0 0 3\n",
            " 1 3 0 3 3 2 2 0 2 0 3 2 1 2 3 2 0 0 0 2 3 0 1 1 0 3 3 2 3 3 3 3 0 0 1 3 2\n",
            " 0 3 3 1 3 2 2 0 3 0 2 3 3 0 1 3 3 3 0 1 2 3 0 0 3 2 3 0 1 0 2 2 3 3 0 1 0\n",
            " 1 0 2 0 2 1 0 0 3 0 2 2 0 0 2 1 0 0 0 2 1 0 0 0 1 0 0 1 1 1 2 1 1 1 1 1 3\n",
            " 1 0 1 3 3 1 0 0 0 3 3 2 3 2 3 0 2 2 0 2 1 1 2 1 3 2 3 0 3 2 2 1 0 2 0 0 1\n",
            " 3 2 0 2 1 0 1 0 1 1 2 1 3 2 1 2 3 2 1 2 1 0 3 3 2 2 0 3 3 3 0 1 2 3 0 0 2\n",
            " 1 2 2 2 3 0 2 3 0 3 3 0 3 0 3 1 2 0 3 2 1 3 0 0 2 2 2 1 2 0 1 3 3 1 0 1 0\n",
            " 3 2 2 2 3 0 0 1 3 2 2 2 0 2 3 0 1 0 2 0 3 0 3 0 2 3 1 1 3 3 1 1 3 2 0 2 0\n",
            " 3 1 1 3 2 1 1 0 1 1 3 1 2 3 1 3 2 2 0]\n"
          ]
        },
        {
          "output_type": "stream",
          "name": "stderr",
          "text": [
            "/usr/local/lib/python3.10/dist-packages/sklearn/cluster/_kmeans.py:870: FutureWarning: The default value of `n_init` will change from 10 to 'auto' in 1.4. Set the value of `n_init` explicitly to suppress the warning\n",
            "  warnings.warn(\n"
          ]
        }
      ]
    },
    {
      "cell_type": "code",
      "source": [],
      "metadata": {
        "id": "o9xU2AQUBYLI"
      },
      "execution_count": null,
      "outputs": []
    },
    {
      "cell_type": "code",
      "source": [],
      "metadata": {
        "id": "HxQDpZRHAk_l"
      },
      "execution_count": null,
      "outputs": []
    }
  ]
}